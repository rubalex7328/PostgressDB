{
  "cells": [
    {
      "cell_type": "markdown",
      "metadata": {
        "id": "view-in-github",
        "colab_type": "text"
      },
      "source": [
        "<a href=\"https://colab.research.google.com/github/rubalex7328/PostgressDB/blob/master/Hw1.ipynb\" target=\"_parent\"><img src=\"https://colab.research.google.com/assets/colab-badge.svg\" alt=\"Open In Colab\"/></a>"
      ]
    },
    {
      "cell_type": "code",
      "execution_count": null,
      "metadata": {
        "colab": {
          "base_uri": "https://localhost:8080/"
        },
        "id": "L1AkfoF4_rro",
        "outputId": "d0f203ed-15d1-4cb3-edad-d1a36d3b6852"
      },
      "outputs": [
        {
          "name": "stdout",
          "output_type": "stream",
          "text": [
            "[ 1  2  3  4  5  6  7  8  9 10]\n"
          ]
        }
      ],
      "source": [
        "import numpy as np\n",
        "a = np.arange(1,11)\n",
        "print(a)\n"
      ]
    },
    {
      "cell_type": "code",
      "execution_count": null,
      "metadata": {
        "colab": {
          "base_uri": "https://localhost:8080/"
        },
        "id": "nwwbDUxq_85t",
        "outputId": "d742750f-1d78-41f2-8d6a-49036b0c2a41"
      },
      "outputs": [
        {
          "name": "stdout",
          "output_type": "stream",
          "text": [
            "[[0. 0. 0.]\n",
            " [0. 0. 0.]\n",
            " [0. 0. 0.]]\n"
          ]
        }
      ],
      "source": [
        "m = np.zeros((3,3),dtype=float)\n",
        "print(m)\n"
      ]
    },
    {
      "cell_type": "code",
      "execution_count": null,
      "metadata": {
        "colab": {
          "base_uri": "https://localhost:8080/"
        },
        "id": "RBOEjjQ5AIAn",
        "outputId": "e43db763-bedb-41e5-b4cd-60c8b810f953"
      },
      "outputs": [
        {
          "name": "stdout",
          "output_type": "stream",
          "text": [
            "[[1.12249734 5.53736279 6.64110614 7.31783118 6.10836734]\n",
            " [9.7616009  3.75430772 6.62822114 2.66326747 1.40681008]\n",
            " [3.4815551  4.50866235 9.30518181 7.61413532 8.3501174 ]\n",
            " [5.55311492 9.64451598 3.99198287 4.32756148 1.22784361]\n",
            " [2.94649106 1.23584287 4.51810941 2.66588944 8.30689068]]\n"
          ]
        }
      ],
      "source": [
        "m55 = np.random.random((5,5))*9 + 1\n",
        "print(m55)\n"
      ]
    },
    {
      "cell_type": "code",
      "execution_count": null,
      "metadata": {
        "colab": {
          "base_uri": "https://localhost:8080/"
        },
        "id": "PFFoWisfAK2m",
        "outputId": "85c54aaf-ad6b-46be-f838-4183dcc92299"
      },
      "outputs": [
        {
          "name": "stdout",
          "output_type": "stream",
          "text": [
            "[[0.3587929  0.51634451 0.68391356 0.95187414]\n",
            " [0.72259133 0.24958208 0.72825386 0.09979788]\n",
            " [0.03970722 0.95011863 0.4523365  0.45083408]\n",
            " [0.74721273 0.44989407 0.45830004 0.0665488 ]]\n"
          ]
        }
      ],
      "source": [
        "m44 = np.random.random((4,4))\n",
        "print(m44)\n"
      ]
    },
    {
      "cell_type": "code",
      "execution_count": null,
      "metadata": {
        "colab": {
          "base_uri": "https://localhost:8080/"
        },
        "id": "vjqfgHT0APhF",
        "outputId": "c63017d7-568c-4da2-c55b-e55f09228ef6"
      },
      "outputs": [
        {
          "name": "stdout",
          "output_type": "stream",
          "text": [
            "[2.07222958 1.7597937  8.26688188 1.61681869 1.69839046]\n",
            "[8.20204463 8.82860728 4.02367749 9.44701411 3.03052923]\n",
            "[10.27427421 10.58840098 12.29055936 11.0638328   4.72891969]\n",
            "[-6.12981504 -7.06881357  4.24320439 -7.83019541 -1.33213878]\n",
            "[16.99651952 15.53652748 33.2632665  15.27410902  5.14702193]\n"
          ]
        }
      ],
      "source": [
        "a1 = np.random.random(5)*9+1\n",
        "a2 = np.random.random(5)*9+1\n",
        "print(a1)\n",
        "print(a2)\n",
        "print(a1+a2)\n",
        "print(a1-a2)\n",
        "print(a1*a2)\n"
      ]
    },
    {
      "cell_type": "code",
      "execution_count": null,
      "metadata": {
        "colab": {
          "base_uri": "https://localhost:8080/"
        },
        "id": "XuAiy9ndASpd",
        "outputId": "9d8c6440-eee2-4ec6-f2f5-da13bdc6a267"
      },
      "outputs": [
        {
          "name": "stdout",
          "output_type": "stream",
          "text": [
            "Ск.добуток 1.733913957251686\n"
          ]
        }
      ],
      "source": [
        "b1 = np.random.random(7)\n",
        "b2 = np.random.random(7)\n",
        "print('Ск.добуток',np.dot(b1,b2))\n"
      ]
    },
    {
      "cell_type": "code",
      "execution_count": null,
      "metadata": {
        "colab": {
          "base_uri": "https://localhost:8080/"
        },
        "id": "oqCEjJEgAWUH",
        "outputId": "98f20911-c925-45db-ee1a-54bf9bded9f1"
      },
      "outputs": [
        {
          "name": "stdout",
          "output_type": "stream",
          "text": [
            "[[62.83917529 61.24885925 45.69680464]\n",
            " [85.70553354 92.78079761 69.01392211]]\n"
          ]
        }
      ],
      "source": [
        "m1 = np.random.random((2,2))*9+1\n",
        "m2 = np.random.random((2,3))*9+1\n",
        "print(m1 @ m2)\n"
      ]
    },
    {
      "cell_type": "code",
      "execution_count": null,
      "metadata": {
        "colab": {
          "base_uri": "https://localhost:8080/"
        },
        "id": "Vn3K70y2AaA-",
        "outputId": "6a67031b-303f-4dee-9ddf-0a977631174f"
      },
      "outputs": [
        {
          "name": "stdout",
          "output_type": "stream",
          "text": [
            "[[-0.07161284 -0.19933415  0.20881123]\n",
            " [ 0.16009277  0.00281119 -0.04026133]\n",
            " [-0.00817893  0.18605086 -0.06717889]]\n"
          ]
        }
      ],
      "source": [
        "m33 = np.random.random((3,3))*9 + 1\n",
        "print(np.linalg.inv(m33))\n"
      ]
    },
    {
      "cell_type": "code",
      "execution_count": null,
      "metadata": {
        "colab": {
          "base_uri": "https://localhost:8080/"
        },
        "id": "2imZEkRtAcha",
        "outputId": "6bc30e94-b091-48ff-84be-f0cd5daaf8c2"
      },
      "outputs": [
        {
          "name": "stdout",
          "output_type": "stream",
          "text": [
            "[[0.54455384 0.51734928 0.47333881 0.73690828]\n",
            " [0.56321295 0.75199316 0.75710031 0.97253733]\n",
            " [0.54037177 0.58256076 0.02217265 0.9887553 ]\n",
            " [0.55314987 0.09631302 0.25136589 0.8188867 ]]\n"
          ]
        }
      ],
      "source": [
        "m44 = np.random.random((4,4))\n",
        "print(m44.T)\n"
      ]
    },
    {
      "cell_type": "code",
      "execution_count": null,
      "metadata": {
        "colab": {
          "base_uri": "https://localhost:8080/"
        },
        "id": "f8Z5ux1PAfJ-",
        "outputId": "b04f82d8-66e8-4d43-c8a1-9b7ebc1800c5"
      },
      "outputs": [
        {
          "name": "stdout",
          "output_type": "stream",
          "text": [
            "[127.62554381 175.80194023 102.46096822]\n"
          ]
        }
      ],
      "source": [
        "m34 = np.random.random((3,4))*9 + 1\n",
        "v4 = np.random.random(4)*9 + 1\n",
        "print(np.dot(m34,v4))\n"
      ]
    },
    {
      "cell_type": "code",
      "execution_count": null,
      "metadata": {
        "colab": {
          "base_uri": "https://localhost:8080/"
        },
        "id": "8UwqShZ7AiOb",
        "outputId": "01495467-6f8a-4ded-b4ae-0a8a4d86939a"
      },
      "outputs": [
        {
          "name": "stdout",
          "output_type": "stream",
          "text": [
            "[0.77362505 0.64803195]\n"
          ]
        }
      ],
      "source": [
        "m23 = np.random.random((2,3))\n",
        "v3 = np.random.random(3)\n",
        "print(np.dot(m23,v3))\n"
      ]
    },
    {
      "cell_type": "code",
      "execution_count": null,
      "metadata": {
        "colab": {
          "base_uri": "https://localhost:8080/"
        },
        "id": "A_LFQQyPAkUU",
        "outputId": "19d7d714-4a6d-4843-8b7b-a228007c2605"
      },
      "outputs": [
        {
          "name": "stdout",
          "output_type": "stream",
          "text": [
            "[[26.42967051 23.79887095]\n",
            " [38.45314026 90.12762357]]\n"
          ]
        }
      ],
      "source": [
        "m22_1 = np.random.random((2,2))*9 + 1\n",
        "m22_2 = np.random.random((2,2))*9 + 1\n",
        "print(m22_1*m22_2)\n"
      ]
    },
    {
      "cell_type": "code",
      "execution_count": null,
      "metadata": {
        "colab": {
          "base_uri": "https://localhost:8080/"
        },
        "id": "gNb7VC5vAnRu",
        "outputId": "24212db1-84f2-4c48-e81e-2bda1061ca19"
      },
      "outputs": [
        {
          "name": "stdout",
          "output_type": "stream",
          "text": [
            "1295.1388503386493\n"
          ]
        }
      ],
      "source": [
        "m55 = np.random.random((5,5))*99 + 1\n",
        "print(m55.sum())\n"
      ]
    },
    {
      "cell_type": "code",
      "execution_count": null,
      "metadata": {
        "colab": {
          "base_uri": "https://localhost:8080/"
        },
        "id": "vSlUH5-_ApPj",
        "outputId": "0a77a035-3908-4f28-b2bb-f31d8a61fd33"
      },
      "outputs": [
        {
          "name": "stdout",
          "output_type": "stream",
          "text": [
            "[[ 0.34681897 -4.54657192  0.31586966  2.94000168]\n",
            " [-1.35053058  0.18491515 -0.72636496 -0.53305439]\n",
            " [ 2.93884267 -4.06547792 -2.09817196 -4.62351414]\n",
            " [ 8.10844969 -4.99333569 -3.25270115  3.97172889]]\n"
          ]
        }
      ],
      "source": [
        "m44_1 = np.random.random((4,4))*9 + 1\n",
        "m44_2 = np.random.random((4,4))*9 + 1\n",
        "print(m44_1-m44_2)\n"
      ]
    },
    {
      "cell_type": "code",
      "execution_count": null,
      "metadata": {
        "colab": {
          "base_uri": "https://localhost:8080/"
        },
        "id": "w0HBOeLRAruJ",
        "outputId": "528c2633-c453-403f-e334-5c658ee4d5ca"
      },
      "outputs": [
        {
          "name": "stdout",
          "output_type": "stream",
          "text": [
            "[[0.01525497 0.59884338 0.60380454]\n",
            " [0.10514769 0.38194344 0.03647606]\n",
            " [0.89041156 0.98092086 0.05994199]]\n",
            "[1.21790289 0.52356719 1.93127441]\n"
          ]
        }
      ],
      "source": [
        "m33 = np.random.random((3,3))\n",
        "print(m33)\n",
        "sum_rows = m33.sum(axis=1)\n",
        "print(sum_rows[:np.newaxis])\n"
      ]
    },
    {
      "cell_type": "code",
      "execution_count": null,
      "metadata": {
        "colab": {
          "base_uri": "https://localhost:8080/"
        },
        "id": "U_p2Ada6AuPA",
        "outputId": "387d7dc9-0c81-4350-af9b-78dd330bc785"
      },
      "outputs": [
        {
          "name": "stdout",
          "output_type": "stream",
          "text": [
            "[[ 1  2  3  4]\n",
            " [ 5  6  7  8]\n",
            " [ 9 10 11 12]]\n",
            "[[  1   4   9  16]\n",
            " [ 25  36  49  64]\n",
            " [ 81 100 121 144]]\n"
          ]
        }
      ],
      "source": [
        "m34 = np.array([np.arange(1,5,1),np.arange(5,9,1),np.arange(9,13,1)])\n",
        "print(m34)\n",
        "print(m34*m34)\n"
      ]
    },
    {
      "cell_type": "code",
      "execution_count": null,
      "metadata": {
        "colab": {
          "base_uri": "https://localhost:8080/"
        },
        "id": "z466J5TRAzyE",
        "outputId": "763982f1-ce0b-4892-876d-a1e14081eeec"
      },
      "outputs": [
        {
          "name": "stdout",
          "output_type": "stream",
          "text": [
            "[46 36 38 13]\n",
            "[6.78232998 6.         6.164414   3.60555128]\n"
          ]
        }
      ],
      "source": [
        "v4 = np.random.randint(1,50, 4)\n",
        "print(v4)\n",
        "print(np.sqrt(v4))\n"
      ]
    },
    {
      "cell_type": "code",
      "execution_count": null,
      "metadata": {
        "colab": {
          "base_uri": "https://localhost:8080/"
        },
        "id": "yA7h9sPMDI5t",
        "outputId": "efad59cb-0df0-43cb-a497-b1d146bee063"
      },
      "outputs": [
        {
          "name": "stdout",
          "output_type": "stream",
          "text": [
            "[ 0 -1  2 -1  4 -1  6 -1  8 -1]\n"
          ]
        }
      ],
      "source": [
        "import numpy.ma as ma\n",
        "arr = np.array([0, 1, 2, 3, 4, 5, 6, 7, 8, 9])\n",
        "a = ma.MaskedArray(arr)\n",
        "m = ma.masked_where(a % 2 != 0, a)\n",
        "print(m.filled(-1))\n",
        "\n"
      ]
    },
    {
      "cell_type": "code",
      "execution_count": null,
      "metadata": {
        "colab": {
          "base_uri": "https://localhost:8080/"
        },
        "id": "JxdtolGkHOnX",
        "outputId": "da4b01b9-c1f0-4e15-c4a5-f4d9f82b4256"
      },
      "outputs": [
        {
          "name": "stdout",
          "output_type": "stream",
          "text": [
            "[[0 1 2 3 4]\n",
            " [5 6 7 8 9]]\n"
          ]
        }
      ],
      "source": [
        "a = np.array([0, 1, 2, 3, 4, 5, 6, 7, 8, 9])\n",
        "print(a.reshape((2,5)))"
      ]
    },
    {
      "cell_type": "code",
      "execution_count": null,
      "metadata": {
        "colab": {
          "base_uri": "https://localhost:8080/"
        },
        "id": "2awL5jSmHmQr",
        "outputId": "9bd89d21-f98f-49c7-8d93-443ba2abf589"
      },
      "outputs": [
        {
          "name": "stdout",
          "output_type": "stream",
          "text": [
            "[2 4]\n",
            "[10 12]\n",
            "[12 16]\n"
          ]
        }
      ],
      "source": [
        "a = np.array([[0, 1],[2, 3]])\n",
        "b = np.array([[4, 5],[6, 7]])\n",
        "print(a.sum(axis=0))\n",
        "print(b.sum(axis=0))\n",
        "print(a.sum(axis=0)+b.sum(axis=0))\n"
      ]
    },
    {
      "cell_type": "code",
      "execution_count": null,
      "metadata": {
        "colab": {
          "base_uri": "https://localhost:8080/"
        },
        "id": "8-p8e2WWKJU9",
        "outputId": "bc2b0915-59e3-4b79-ed5e-cb12c5a53151"
      },
      "outputs": [
        {
          "name": "stdout",
          "output_type": "stream",
          "text": [
            "[1 2 3 1 2 3 1 2 3]\n",
            "[1 1 1 2 2 2 3 3 3 1 2 3 1 2 3 1 2 3]\n"
          ]
        }
      ],
      "source": [
        "a = np.array([1,2,3])\n",
        "# [1, 1, 1, 2, 2, 2, 3, 3, 3, 1, 2, 3, 1, 2, 3, 1, 2, 3]\n",
        "b = np.vstack((a,a,a))\n",
        "print(np.concatenate((np.concatenate((b[0:,0],b[0:,1],b[0:,2])),np.concatenate((a,a,a),axis=0))))\n"
      ]
    },
    {
      "cell_type": "code",
      "execution_count": null,
      "metadata": {
        "colab": {
          "base_uri": "https://localhost:8080/"
        },
        "id": "_dSSTOzpUWdF",
        "outputId": "a91c54f6-13d9-4835-9b92-e5eb734e2ccb"
      },
      "outputs": [
        {
          "name": "stdout",
          "output_type": "stream",
          "text": [
            "[27.62684215 14.64009987 21.80136195 42.39403048  1.23122395  6.95688692\n",
            " 33.86670515 41.466785    7.69862289 29.17957314 44.67477576 11.25090398\n",
            " 10.08108276  6.31046763 11.76517714 48.95256545 40.77247431  9.42510962\n",
            " 40.99501269 14.42961361]\n",
            "[48.95256545 44.67477576 42.39403048 41.466785   40.99501269]\n",
            "[15, 10, 3, 7, 18]\n"
          ]
        }
      ],
      "source": [
        "np.random.seed(100)\n",
        "a = np.random.uniform(1,50, 20)\n",
        "print(a)\n",
        "d = a.copy()\n",
        "d.sort()\n",
        "b = np.flip(d)[:5]\n",
        "#print(b)\n",
        "l = []\n",
        "for n in b:\n",
        "  l.append(np.where(a == n)[0][0])\n",
        "print(l)\n"
      ]
    },
    {
      "cell_type": "code",
      "execution_count": 149,
      "metadata": {
        "colab": {
          "base_uri": "https://localhost:8080/"
        },
        "id": "G-6M_-jIYs90",
        "outputId": "60e5c78f-e126-462f-9f3b-ab125db3ceb5"
      },
      "outputs": [
        {
          "output_type": "stream",
          "name": "stdout",
          "text": [
            "[1. 2. 3. 5. 6. 7.]\n",
            "[1. 2. 3. 5. 6. 7.]\n"
          ]
        }
      ],
      "source": [
        "nan_arr =np.array([1,2,3,np.nan,5,6,7,np.nan])\n",
        "clean_arr = nan_arr[~np.isnan(nan_arr)]\n",
        "#clean_arr = np.delete(nan_arr, np.where(np.isnan(nan_arr)))\n",
        "print(clean_arr)\n",
        "\n"
      ]
    },
    {
      "cell_type": "code",
      "source": [
        "a = np.array([1,2,3,4,5])\n",
        "b = np.array([4,5,6,7,8])\n",
        "c = a-b\n",
        "sq = c * c\n",
        "print(np.sqrt(sq.sum()))\n"
      ],
      "metadata": {
        "colab": {
          "base_uri": "https://localhost:8080/"
        },
        "id": "zIsPQlX_nbrP",
        "outputId": "41c8c8c4-67d4-4435-fff5-b70a203b7bcf"
      },
      "execution_count": 150,
      "outputs": [
        {
          "output_type": "stream",
          "name": "stdout",
          "text": [
            "6.708203932499369\n"
          ]
        }
      ]
    },
    {
      "cell_type": "code",
      "source": [
        "x = np.array([1, 2, 1, 1, 3, 4, 3, 1, 1, 2, 1, 1, 2])\n",
        "print(np.where(x == 1)[0][4])\n"
      ],
      "metadata": {
        "colab": {
          "base_uri": "https://localhost:8080/"
        },
        "id": "ZFgM2GbWrB5J",
        "outputId": "fde0c5e2-de21-482e-9f46-26dcd1413909"
      },
      "execution_count": 161,
      "outputs": [
        {
          "output_type": "stream",
          "name": "stdout",
          "text": [
            "8\n"
          ]
        }
      ]
    },
    {
      "cell_type": "code",
      "source": [
        "np.random.seed(100)\n",
        "arr = np.random.randint(0, 5, 10)\n",
        "print(arr)\n",
        "ms = arr < 0\n",
        "for n in arr:\n",
        "  ms[np.where(arr == n)[0][1:]]=True\n",
        "print(ms)"
      ],
      "metadata": {
        "colab": {
          "base_uri": "https://localhost:8080/"
        },
        "id": "JR8KzTTMsS1n",
        "outputId": "5a4ac302-fd9f-4387-c9bf-27a1aa44297f"
      },
      "execution_count": 167,
      "outputs": [
        {
          "output_type": "stream",
          "name": "stdout",
          "text": [
            "[0 0 3 0 2 4 2 2 2 2]\n",
            "[False  True False  True False False  True  True  True  True]\n"
          ]
        }
      ]
    }
  ],
  "metadata": {
    "colab": {
      "provenance": [],
      "authorship_tag": "ABX9TyM/dtsE96Kq2NaKz1H54T+5",
      "include_colab_link": true
    },
    "kernelspec": {
      "display_name": "Python 3",
      "name": "python3"
    },
    "language_info": {
      "name": "python"
    }
  },
  "nbformat": 4,
  "nbformat_minor": 0
}